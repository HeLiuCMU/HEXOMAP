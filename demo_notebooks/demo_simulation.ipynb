{
 "cells": [
  {
   "cell_type": "markdown",
   "metadata": {},
   "source": [
    "# this note book will demonstrate how to simulate diffraction pattern"
   ]
  },
  {
   "cell_type": "code",
   "execution_count": 1,
   "metadata": {},
   "outputs": [],
   "source": [
    "import sys\n",
    "sys.path.insert(0, '..')\n",
    "import numpy as np\n",
    "import matplotlib.pyplot as plt\n",
    "import pickle\n",
    "# customized module\n",
    "\n",
    "from hexomap import reconstruction  # g-force caller\n",
    "from hexomap import MicFileTool     # io for reconstruction rst\n",
    "from hexomap import IntBin          # io for binary image (reduced data)"
   ]
  },
  {
   "cell_type": "code",
   "execution_count": 2,
   "metadata": {},
   "outputs": [
    {
     "name": "stdout",
     "output_type": "stream",
     "text": [
      "\n",
      "Configurations:\n",
      "micsize                        [20 20]\n",
      "micVoxelSize                   0.001\n",
      "micShift                       [0. 0. 0.]\n",
      "expdataNDigit                  6\n",
      "energy                         65.351\n",
      "sample                         gold\n",
      "maxQ                           9\n",
      "etalimit                       1.413716694115407\n",
      "NRot                           180\n",
      "NDet                           2\n",
      "searchBatchSize                6000\n",
      "reverseRot                     True\n",
      "detL                           [[4.5 6.5]]\n",
      "detJ                           [[1020.4672 1035.6063]]\n",
      "detK                           [[1995.8868 1990.6409]]\n",
      "detRot                         [[[90 90  0]\n",
      "  [90 90  0]]]\n",
      "fileBin                        ../examples/johnson_aug18_demo/Au_reduced_1degree//Au_int_1degree_suter_aug18_z\n",
      "fileBinDigit                   6\n",
      "fileBinDetIdx                  [0 1]\n",
      "fileBinLayerIdx                0\n",
      "_initialString                 demo_gold_\n"
     ]
    }
   ],
   "source": [
    "# set up configuration:\n",
    "import sys\n",
    "sys.path.insert(0, '..')\n",
    "from hexomap import config\n",
    "import numpy as np\n",
    "\n",
    "Au_Config={\n",
    "    'micsize' : np.array([20, 20]),\n",
    "    'micVoxelSize' : 0.001,\n",
    "    'micShift' : np.array([0.0, 0.0, 0.0]),\n",
    "    'expdataNDigit' : 6,\n",
    "    'energy' : 65.351,      #55.587 # in kev\n",
    "    'sample' : 'gold',\n",
    "    'maxQ' : 9,\n",
    "    'etalimit' : 81 / 180.0 * np.pi,\n",
    "    'NRot' : 180,\n",
    "    'NDet' : 2,\n",
    "    'searchBatchSize' : 6000,\n",
    "    'reverseRot' : True,          # for aero, is True, for rams: False\n",
    "    'detL' : np.array([[ 4.5, 6.5]]),\n",
    "    'detJ' : np.array([[1020.4672, 1035.6063]]),\n",
    "    'detK' : np.array([[1995.8868, 1990.6409]]),\n",
    "    'detRot' : np.array([[[90, 90, 0],\n",
    "                  [90, 90, 0]]]),\n",
    "    'fileBin' : '../examples/johnson_aug18_demo/Au_reduced_1degree//Au_int_1degree_suter_aug18_z',\n",
    "    'fileBinDigit' : 6,\n",
    "    'fileBinDetIdx' : np.array([0, 1]),\n",
    "    'fileBinLayerIdx' : 0,\n",
    "    '_initialString' : 'demo_gold_'}\n",
    "    \n",
    "c = config.Config(**Au_Config)\n",
    "print(c)"
   ]
  },
  {
   "cell_type": "code",
   "execution_count": 3,
   "metadata": {},
   "outputs": [
    {
     "data": {
      "image/png": "[encoded data removed]",
      "text/plain": [
       "<Figure size 432x288 with 3 Axes>"
      ]
     },
     "metadata": {
      "needs_background": "light"
     },
     "output_type": "display_data"
    },
    {
     "name": "stdout",
     "output_type": "stream",
     "text": [
      "set Q automatically to 9\n",
      "(146, 3)\n",
      "(146, 3, 3)\n",
      "============start of simulation ============= \n",
      "\n",
      "nvoxel: 146, norientation:1.0\n",
      "\n",
      "============end of simulation================ \n",
      "\n",
      "SourceModule time 0.0003112640082836151 seconds.\n"
     ]
    },
    {
     "data": {
      "text/plain": [
       "1"
      ]
     },
     "execution_count": 3,
     "metadata": {},
     "output_type": "execute_result"
    }
   ],
   "source": [
    "from hexomap import reconstruction\n",
    "from hexomap import MicFileTool\n",
    "# load structure to simulate\n",
    "mic = np.load('demo_gold__q9_rot180_z0_20x20_0.005_shift_0.0_0.0_0.0.npy') \n",
    "mask = mic[:,:,6]> 0.6 # only simulate where hitratio>0.6\n",
    "\n",
    "# visualize mic structure\n",
    "MicFileTool.plot_mic_and_conf(mic, 0.6)\n",
    "\n",
    "S = reconstruction.Reconstructor_GPU()\n",
    "S.load_config(c,reloadData=False)  # load config but not raw images\n",
    "S.squareMicData = mic\n",
    "S.sim_mic(simMask=mic[:,:,6]>0.6)\n",
    "S.save_sim_mic_binary('simulated_demo_gold/demo_gold_sim_')"
   ]
  },
  {
   "cell_type": "code",
   "execution_count": 4,
   "metadata": {},
   "outputs": [
    {
     "data": {
      "image/png": "[encoded data removed]",
      "text/plain": [
       "<Figure size 1080x720 with 4 Axes>"
      ]
     },
     "metadata": {
      "needs_background": "light"
     },
     "output_type": "display_data"
    }
   ],
   "source": [
    "from hexomap import IntBin          # io for binary image (reduced data)\n",
    "import matplotlib.pyplot as plt\n",
    "import numpy as np\n",
    "rawInitial = 'simulated_demo_gold/demo_gold_sim_z'\n",
    "NRot = 30   # only number of images to display, doen't have to be all images(no need set to 180 or 720.can be some thing like 10)\n",
    "NDet = 2\n",
    "idxLayer = 0\n",
    "%matplotlib inline\n",
    "plt.rcParams[\"figure.figsize\"] = (15,10)\n",
    "figure, ax = plt.subplots(2, NDet)\n",
    "for idxDet in range(NDet):\n",
    "    # single frame\n",
    "    idxRot = 0  # index of rotation (0~719)\n",
    "    b=IntBin.ReadI9BinaryFiles(f'{rawInitial}{idxLayer}_{0:06d}.bin{1}'.format(int(idxRot),idxDet))\n",
    "    ax[0,idxDet].plot(2047-b[0],2047-b[1],'b.')\n",
    "    ax[0,idxDet].axis('scaled')\n",
    "    ax[0,idxDet].set_xlim((0,2048))\n",
    "    ax[0,idxDet].set_ylim((0,2048))\n",
    "    ax[0,idxDet].set_title(f'single frame layer:{idxLayer}, det:{idxDet}, rot:{idxRot}')\n",
    "    \n",
    "    # integrated frame:\n",
    "    lX = []\n",
    "    lY = []\n",
    "    for idxRot in range(NRot):\n",
    "        #print(b)\n",
    "        b = IntBin.ReadI9BinaryFiles(f'{rawInitial}{idxLayer}_{idxRot:06d}.bin{idxDet}')\n",
    "        lX.append(b[0])\n",
    "        lY.append(b[1])\n",
    "    aX = np.concatenate(lX)\n",
    "    aY = np.concatenate(lY)\n",
    "    ax[1,idxDet].plot(2047-aX,2047-aY,'b.')  \n",
    "    ax[1,idxDet].axis('scaled')\n",
    "    ax[1,idxDet].set_xlim((0,2048))\n",
    "    ax[1,idxDet].set_ylim((0,2048))\n",
    "    ax[1,idxDet].set_title(f'integrated frame layer:{idxLayer}, det:{idxDet}')\n",
    "\n",
    "plt.show()"
   ]
  },
  {
   "cell_type": "code",
   "execution_count": null,
   "metadata": {},
   "outputs": [],
   "source": []
  }
 ],
 "metadata": {
  "kernelspec": {
   "display_name": "Python 3",
   "language": "python",
   "name": "python3"
  },
  "language_info": {
   "codemirror_mode": {
    "name": "ipython",
    "version": 3
   },
   "file_extension": ".py",
   "mimetype": "text/x-python",
   "name": "python",
   "nbconvert_exporter": "python",
   "pygments_lexer": "ipython3",
   "version": "3.6.8"
  }
 },
 "nbformat": 4,
 "nbformat_minor": 2
}
