{
 "cells": [
  {
   "cell_type": "markdown",
   "metadata": {},
   "source": [
    "## this notebook demontrate how to output the HEDM reconstruction result to DREAM3D and Paraview"
   ]
  },
  {
   "cell_type": "markdown",
   "metadata": {},
   "source": [
    "## convert npy into ang format"
   ]
  },
  {
   "cell_type": "code",
   "execution_count": 6,
   "metadata": {},
   "outputs": [
    {
     "name": "stdout",
     "output_type": "stream",
     "text": [
      "processing layer 0: ../examples/output_formats/nf_s1400_100_1_t2_q9_rot180_z53_500x500_0.002_shift_0.0_0.0_0.0.npy\n",
      "../examples/output_formats/nf_s1400_100_1_t2_tiff_stack/nf_s1400_100_1_t2_1.TIFF\n",
      "processing layer 1: ../examples/output_formats/nf_s1400_100_1_t2_q9_rot180_z54_500x500_0.002_shift_0.0_0.0_0.0.npy\n",
      "../examples/output_formats/nf_s1400_100_1_t2_tiff_stack/nf_s1400_100_1_t2_2.TIFF\n",
      "processing layer 2: ../examples/output_formats/nf_s1400_100_1_t2_q9_rot180_z55_500x500_0.002_shift_0.0_0.0_0.0.npy\n",
      "../examples/output_formats/nf_s1400_100_1_t2_tiff_stack/nf_s1400_100_1_t2_3.TIFF\n",
      " processing: 2"
     ]
    }
   ],
   "source": [
    "# after reconstruction of the whole stack.\n",
    "# save cropped into tiffstack and ang stack\n",
    "\n",
    "from hexomap import recon_format\n",
    "lNpyFile = []\n",
    "initial = 'nf_s1400_100_1_t2'\n",
    "folder = \"../examples/output_formats/\"\n",
    "for layer in range(53,56): # specify number of layers here\n",
    "    lNpyFile.append(f'{folder}{initial}_q9_rot180_z{layer}_500x500_0.002_shift_0.0_0.0_0.0.npy')\n",
    "tiff_stack_initial = f'{folder}{initial}_tiff_stack/{initial}'\n",
    "ang_stack_initial = f'{folder}{initial}_ang_stack/{initial}'\n",
    "recon_format.npy_2_tiffstack(lNpyFile, tiff_stack_initial, minHitRatio=0.001,startIdx=1)\n",
    "recon_format.npy_2_ang(lNpyFile,\n",
    "                       ang_stack_initial,\n",
    "                       sample='SrTiO3', # specify sample name here\n",
    "                       startIdx=1)"
   ]
  },
  {
   "cell_type": "markdown",
   "metadata": {},
   "source": [
    "## transfer ang stack into local machine by scp or rsync, open with DREAM3D\n",
    "\n",
    "## DREAM3D pipeline files are included in this github repo. You can use the following files: ../hexomap/ang_2_h5ebsd_hedm.json & ../hexomap/dream3d_to_paraview.json\n",
    "\n",
    "1. transfer ang to dream3d format: in dream3d, open file ../hexomap/ang_2_h5ebsd_hedm.json, edit input and output file location,hit \"start pipeline\"\n",
    "    ![Tux, the Linux mascot](dream3d-pipline1.png)\n",
    "\n",
    "1. dream3d to paraview: in dream3d, open file ../hexomap/dream3d_to_paraview.json, edit input and output file location, hit \"start pipeline\"\n",
    "    ![Tux, the Linux mascot](dream3d-pipeline2.png)\n",
    "1. open output \".xdmf\" file, choose reader as \"Xdmf3ReaderS\", then visualize in Paraview.\n",
    "    ![Tux, the Linux mascot](paraview.png)"
   ]
  },
  {
   "cell_type": "code",
   "execution_count": null,
   "metadata": {},
   "outputs": [],
   "source": []
  }
 ],
 "metadata": {
  "kernelspec": {
   "display_name": "Python 3",
   "language": "python",
   "name": "python3"
  },
  "language_info": {
   "codemirror_mode": {
    "name": "ipython",
    "version": 3
   },
   "file_extension": ".py",
   "mimetype": "text/x-python",
   "name": "python",
   "nbconvert_exporter": "python",
   "pygments_lexer": "ipython3",
   "version": "3.6.8"
  }
 },
 "nbformat": 4,
 "nbformat_minor": 2
}
