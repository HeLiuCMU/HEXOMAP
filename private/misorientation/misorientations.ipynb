{
 "cells": [
  {
   "cell_type": "markdown",
   "metadata": {},
   "source": [
    "# Overview\n",
    "\n",
    "The purpose of this notebook is to evaluate the original and the current implementation of misorientation calculations."
   ]
  },
  {
   "cell_type": "code",
   "execution_count": 1,
   "metadata": {},
   "outputs": [],
   "source": [
    "import numpy as np\n",
    "\n",
    "from hexomap.past   import Misorien2FZ1 as miso_new\n",
    "from hexomap.past   import EulerZXZ2Mat as euler2mat_new\n",
    "from hexomap.past   import generate_random_rot_mat\n",
    "\n",
    "from hexomap.RotRep import Misorien2FZ1 as miso_org   # one symop\n",
    "from hexomap.RotRep import Misorien2FZ2 as miso_org2  # two symops\n",
    "from hexomap.RotRep import EulerZXZ2Mat as euler2mat_old\n",
    "\n",
    "from hexomap.orientation import sym_operator\n",
    "from hexomap.orientation import Quaternion\n",
    "from hexomap.orientation import Orientation\n",
    "from hexomap.orientation import Eulers\n",
    "from hexomap.orientation import Frame"
   ]
  },
  {
   "cell_type": "code",
   "execution_count": 2,
   "metadata": {},
   "outputs": [
    {
     "data": {
      "text/plain": [
       "\u001b[0;31mSignature:\u001b[0m \u001b[0mmiso_new\u001b[0m\u001b[0;34m(\u001b[0m\u001b[0mm1\u001b[0m\u001b[0;34m,\u001b[0m \u001b[0mm2\u001b[0m\u001b[0;34m,\u001b[0m \u001b[0msymtype\u001b[0m\u001b[0;34m=\u001b[0m\u001b[0;34m'Cubic'\u001b[0m\u001b[0;34m)\u001b[0m\u001b[0;34m\u001b[0m\u001b[0;34m\u001b[0m\u001b[0m\n",
       "\u001b[0;31mDocstring:\u001b[0m <no docstring>\n",
       "\u001b[0;31mSource:\u001b[0m   \n",
       "\u001b[0;32mdef\u001b[0m \u001b[0mMisorien2FZ1\u001b[0m\u001b[0;34m(\u001b[0m\u001b[0mm1\u001b[0m\u001b[0;34m,\u001b[0m \u001b[0mm2\u001b[0m\u001b[0;34m,\u001b[0m \u001b[0msymtype\u001b[0m\u001b[0;34m=\u001b[0m\u001b[0;34m'Cubic'\u001b[0m\u001b[0;34m)\u001b[0m\u001b[0;34m:\u001b[0m\u001b[0;34m\u001b[0m\n",
       "\u001b[0;34m\u001b[0m    \u001b[0mdqcore\u001b[0m \u001b[0;34m=\u001b[0m \u001b[0mQuaternion\u001b[0m\u001b[0;34m.\u001b[0m\u001b[0mfrom_matrix\u001b[0m\u001b[0;34m(\u001b[0m\u001b[0mm1\u001b[0m\u001b[0;34m.\u001b[0m\u001b[0mT\u001b[0m\u001b[0;34m@\u001b[0m\u001b[0mm2\u001b[0m\u001b[0;34m)\u001b[0m\u001b[0;34m\u001b[0m\n",
       "\u001b[0;34m\u001b[0m    \u001b[0mdqs\u001b[0m  \u001b[0;34m=\u001b[0m \u001b[0;34m[\u001b[0m\u001b[0mdqcore\u001b[0m\u001b[0;34m*\u001b[0m\u001b[0mop\u001b[0m \u001b[0;32mfor\u001b[0m \u001b[0mop\u001b[0m \u001b[0;32min\u001b[0m \u001b[0msym_operator\u001b[0m\u001b[0;34m(\u001b[0m\u001b[0msymtype\u001b[0m\u001b[0;34m)\u001b[0m\u001b[0;34m]\u001b[0m\u001b[0;34m\u001b[0m\n",
       "\u001b[0;34m\u001b[0m    \u001b[0mangs\u001b[0m \u001b[0;34m=\u001b[0m \u001b[0;34m[\u001b[0m\u001b[0mq\u001b[0m\u001b[0;34m.\u001b[0m\u001b[0mrot_angle\u001b[0m \u001b[0;32mfor\u001b[0m \u001b[0mq\u001b[0m \u001b[0;32min\u001b[0m \u001b[0mdqs\u001b[0m\u001b[0;34m]\u001b[0m\u001b[0;34m\u001b[0m\n",
       "\u001b[0;34m\u001b[0m    \u001b[0midx\u001b[0m  \u001b[0;34m=\u001b[0m \u001b[0mnp\u001b[0m\u001b[0;34m.\u001b[0m\u001b[0margmin\u001b[0m\u001b[0;34m(\u001b[0m\u001b[0mangs\u001b[0m\u001b[0;34m)\u001b[0m\u001b[0;34m\u001b[0m\n",
       "\u001b[0;34m\u001b[0m    \u001b[0;32mreturn\u001b[0m \u001b[0mdqs\u001b[0m\u001b[0;34m[\u001b[0m\u001b[0midx\u001b[0m\u001b[0;34m]\u001b[0m\u001b[0;34m.\u001b[0m\u001b[0mas_matrix\u001b[0m\u001b[0;34m,\u001b[0m \u001b[0mangs\u001b[0m\u001b[0;34m[\u001b[0m\u001b[0midx\u001b[0m\u001b[0;34m]\u001b[0m\u001b[0;34m\u001b[0m\u001b[0;34m\u001b[0m\u001b[0m\n",
       "\u001b[0;31mFile:\u001b[0m      ~/lib/hexomap/past.py\n",
       "\u001b[0;31mType:\u001b[0m      function\n"
      ]
     },
     "metadata": {},
     "output_type": "display_data"
    }
   ],
   "source": [
    "miso_new??"
   ]
  },
  {
   "cell_type": "code",
   "execution_count": 3,
   "metadata": {},
   "outputs": [
    {
     "data": {
      "text/plain": [
       "\u001b[0;31mSignature:\u001b[0m \u001b[0mmiso_org\u001b[0m\u001b[0;34m(\u001b[0m\u001b[0mm1\u001b[0m\u001b[0;34m,\u001b[0m \u001b[0mm2\u001b[0m\u001b[0;34m,\u001b[0m \u001b[0msymtype\u001b[0m\u001b[0;34m=\u001b[0m\u001b[0;34m'Cubic'\u001b[0m\u001b[0;34m)\u001b[0m\u001b[0;34m\u001b[0m\u001b[0;34m\u001b[0m\u001b[0m\n",
       "\u001b[0;31mSource:\u001b[0m   \n",
       "\u001b[0;32mdef\u001b[0m \u001b[0mMisorien2FZ1\u001b[0m\u001b[0;34m(\u001b[0m\u001b[0mm1\u001b[0m\u001b[0;34m,\u001b[0m \u001b[0mm2\u001b[0m\u001b[0;34m,\u001b[0m \u001b[0msymtype\u001b[0m\u001b[0;34m=\u001b[0m\u001b[0;34m'Cubic'\u001b[0m\u001b[0;34m)\u001b[0m\u001b[0;34m:\u001b[0m\u001b[0;34m\u001b[0m\n",
       "\u001b[0;34m\u001b[0m    \u001b[0;34m\"\"\"\u001b[0m\n",
       "\u001b[0;34m    Careful, it is m1*op*m2T, the misorientation in sample frame, the order matters. Only returns the angle, doesn't calculate the right axis direction\u001b[0m\n",
       "\u001b[0;34m\u001b[0m\n",
       "\u001b[0;34m    Parameters\u001b[0m\n",
       "\u001b[0;34m    -----------\u001b[0m\n",
       "\u001b[0;34m    m1:     ndarray\u001b[0m\n",
       "\u001b[0;34m            Matrix representation of orientation1\u001b[0m\n",
       "\u001b[0;34m    m2:     ndarray\u001b[0m\n",
       "\u001b[0;34m            Matrix representation of orientation2\u001b[0m\n",
       "\u001b[0;34m    symtype:string\u001b[0m\n",
       "\u001b[0;34m            The crystal symmetry\u001b[0m\n",
       "\u001b[0;34m\u001b[0m\n",
       "\u001b[0;34m    Returns\u001b[0m\n",
       "\u001b[0;34m    -----------\u001b[0m\n",
       "\u001b[0;34m    oRes:   ndarray\u001b[0m\n",
       "\u001b[0;34m            The misorientation matrix after reduced. Note that this function doesn't actually\u001b[0m\n",
       "\u001b[0;34m            reduce the orientation to fundamental zone, only make sure the angle is the\u001b[0m\n",
       "\u001b[0;34m            smallest one, so there are multiple orientations have the same angle but\u001b[0m\n",
       "\u001b[0;34m            different directions. oRes is only one of them.\u001b[0m\n",
       "\u001b[0;34m    angle:  scalar\u001b[0m\n",
       "\u001b[0;34m            The misorientation angle.\u001b[0m\n",
       "\u001b[0;34m    \"\"\"\u001b[0m\u001b[0;34m\u001b[0m\n",
       "\u001b[0;34m\u001b[0m    \u001b[0;31m#m2 = np.matrix(m2)\u001b[0m\u001b[0;34m\u001b[0m\n",
       "\u001b[0;34m\u001b[0m    \u001b[0mops\u001b[0m \u001b[0;34m=\u001b[0m \u001b[0mGetSymRotMat\u001b[0m\u001b[0;34m(\u001b[0m\u001b[0msymtype\u001b[0m\u001b[0;34m)\u001b[0m\u001b[0;34m\u001b[0m\n",
       "\u001b[0;34m\u001b[0m    \u001b[0mangle\u001b[0m \u001b[0;34m=\u001b[0m \u001b[0;36m6.3\u001b[0m\u001b[0;34m\u001b[0m\n",
       "\u001b[0;34m\u001b[0m    \u001b[0;32mfor\u001b[0m \u001b[0mop\u001b[0m \u001b[0;32min\u001b[0m \u001b[0mops\u001b[0m\u001b[0;34m:\u001b[0m\u001b[0;34m\u001b[0m\n",
       "\u001b[0;34m\u001b[0m        \u001b[0mtmp\u001b[0m \u001b[0;34m=\u001b[0m \u001b[0mm1\u001b[0m\u001b[0;34m.\u001b[0m\u001b[0mdot\u001b[0m\u001b[0;34m(\u001b[0m\u001b[0mop\u001b[0m\u001b[0;34m.\u001b[0m\u001b[0mdot\u001b[0m\u001b[0;34m(\u001b[0m\u001b[0mm2\u001b[0m\u001b[0;34m.\u001b[0m\u001b[0mT\u001b[0m\u001b[0;34m)\u001b[0m\u001b[0;34m)\u001b[0m\u001b[0;34m\u001b[0m\n",
       "\u001b[0;34m\u001b[0m        \u001b[0mcosangle\u001b[0m \u001b[0;34m=\u001b[0m \u001b[0;36m0.5\u001b[0m \u001b[0;34m*\u001b[0m \u001b[0;34m(\u001b[0m\u001b[0mtmp\u001b[0m\u001b[0;34m.\u001b[0m\u001b[0mtrace\u001b[0m\u001b[0;34m(\u001b[0m\u001b[0;34m)\u001b[0m \u001b[0;34m-\u001b[0m \u001b[0;36m1\u001b[0m\u001b[0;34m)\u001b[0m\u001b[0;34m\u001b[0m\n",
       "\u001b[0;34m\u001b[0m        \u001b[0mcosangle\u001b[0m \u001b[0;34m=\u001b[0m \u001b[0mmin\u001b[0m\u001b[0;34m(\u001b[0m\u001b[0;36m0.9999999999\u001b[0m\u001b[0;34m,\u001b[0m \u001b[0mcosangle\u001b[0m\u001b[0;34m)\u001b[0m\u001b[0;34m\u001b[0m\n",
       "\u001b[0;34m\u001b[0m        \u001b[0mcosangle\u001b[0m \u001b[0;34m=\u001b[0m \u001b[0mmax\u001b[0m\u001b[0;34m(\u001b[0m\u001b[0;34m-\u001b[0m\u001b[0;36m0.99999999999\u001b[0m\u001b[0;34m,\u001b[0m \u001b[0mcosangle\u001b[0m\u001b[0;34m)\u001b[0m\u001b[0;34m\u001b[0m\n",
       "\u001b[0;34m\u001b[0m        \u001b[0mnewangle\u001b[0m \u001b[0;34m=\u001b[0m \u001b[0mnp\u001b[0m\u001b[0;34m.\u001b[0m\u001b[0marccos\u001b[0m\u001b[0;34m(\u001b[0m\u001b[0mcosangle\u001b[0m\u001b[0;34m)\u001b[0m\u001b[0;34m\u001b[0m\n",
       "\u001b[0;34m\u001b[0m        \u001b[0;32mif\u001b[0m \u001b[0mnewangle\u001b[0m \u001b[0;34m<\u001b[0m \u001b[0mangle\u001b[0m\u001b[0;34m:\u001b[0m\u001b[0;34m\u001b[0m\n",
       "\u001b[0;34m\u001b[0m            \u001b[0mangle\u001b[0m \u001b[0;34m=\u001b[0m \u001b[0mnewangle\u001b[0m\u001b[0;34m\u001b[0m\n",
       "\u001b[0;34m\u001b[0m            \u001b[0moRes\u001b[0m \u001b[0;34m=\u001b[0m \u001b[0mtmp\u001b[0m\u001b[0;34m\u001b[0m\n",
       "\u001b[0;34m\u001b[0m    \u001b[0;32mreturn\u001b[0m \u001b[0moRes\u001b[0m\u001b[0;34m,\u001b[0m \u001b[0mangle\u001b[0m\u001b[0;34m\u001b[0m\u001b[0;34m\u001b[0m\u001b[0m\n",
       "\u001b[0;31mFile:\u001b[0m      ~/lib/hexomap/RotRep.py\n",
       "\u001b[0;31mType:\u001b[0m      function\n"
      ]
     },
     "metadata": {},
     "output_type": "display_data"
    }
   ],
   "source": [
    "miso_org??"
   ]
  },
  {
   "cell_type": "markdown",
   "metadata": {},
   "source": [
    "\n",
    "# Test_1: Consistency\n",
    "\n",
    "The first test evaluate the consistence bewteen the original and the new implementation of two misorientation calculation."
   ]
  },
  {
   "cell_type": "markdown",
   "metadata": {},
   "source": [
    "```python\n",
    "def quaternions_from_eulers(eulers: np.ndarray) -> np.ndarray:\n",
    "    \"\"\" Return a quaternion based on given Euler Angles \"\"\"\n",
    "    # allow euler as an numpy array\n",
    "    try:\n",
    "        eulers = eulers.reshape((-1, 3))\n",
    "    except:\n",
    "        raise ValueError(f\"Eulers angles much be ROW/horizontal stacked\")\n",
    "\n",
    "    ee = 0.5*eulers\n",
    "    cs = np.cos(ee)\n",
    "    ss = np.sin(ee)\n",
    "    c1, c, c2 = cs[:,0], cs[:,1], cs[:,2]\n",
    "    s1, s, s2 = ss[:,0], ss[:,1], ss[:,2]\n",
    "    \n",
    "    quats = np.empty([eulers.shape[0], 4])\n",
    "    quats[:,0] =  c1*c*c2 - s1*c*s2\n",
    "    quats[:,1] =  c1*s*c2 + s1*s*s2\n",
    "    quats[:,2] = -c1*s*s2 + s1*s*c2\n",
    "    quats[:,3] =  c1*c*s2 + s1*c*c2\n",
    "\n",
    "    return (quats/np.linalg.norm(quats, axis=1)[:,None]) * np.sign(quats[:,0])[:,None]\n",
    "```"
   ]
  },
  {
   "cell_type": "code",
   "execution_count": 4,
   "metadata": {},
   "outputs": [
    {
     "name": "stdout",
     "output_type": "stream",
     "text": [
      "[-2.18079375  0.57518029 -2.0115243 ] -> [ 0.48092922 -0.2826269   0.02397733  0.82961088]\n",
      "\n",
      "[[-2.18079375  0.57518029 -2.0115243 ]\n",
      " [-2.18079375  0.57518029 -2.0115243 ]]\n",
      "|\n",
      "v\n",
      "[[ 0.48092922 -0.2826269   0.02397733  0.82961088]\n",
      " [ 0.48092922 -0.2826269   0.02397733  0.82961088]]\n"
     ]
    }
   ],
   "source": [
    "euler = (np.random.random(3)-0.5)*4*np.pi\n",
    "\n",
    "q = Quaternion.from_eulers(euler)\n",
    "print(f\"{euler} -> {q.as_array}\")\n",
    "\n",
    "print()\n",
    "eulers = np.vstack((euler, euler))\n",
    "qs = Quaternion.quaternions_from_eulers(eulers)\n",
    "print(eulers)\n",
    "print(\"|\")\n",
    "print(\"v\")\n",
    "print(qs)"
   ]
  },
  {
   "cell_type": "code",
   "execution_count": 5,
   "metadata": {},
   "outputs": [],
   "source": [
    "def check(m1, m2):\n",
    "    for lb, me in {\n",
    "    \"current\": miso_new, \n",
    "    \"org1\":    miso_org, \n",
    "    # \"org2\":    miso_org2\n",
    "    }.items():\n",
    "        print(f\"{lb}\\t{np.degrees(me(m1, m2)[1])}\")"
   ]
  },
  {
   "cell_type": "code",
   "execution_count": 6,
   "metadata": {},
   "outputs": [
    {
     "name": "stdout",
     "output_type": "stream",
     "text": [
      "current\t60.98631277324766\n",
      "org1\t60.98631277324768\n",
      "current\t7.9999999999999\n",
      "org1\t7.999999999999981\n"
     ]
    }
   ],
   "source": [
    "m1 = euler2mat_new(np.radians([0,  45,  0]))\n",
    "m2 = euler2mat_new(np.radians([98, 45,  0]))\n",
    "check(m1, m2)\n",
    "\n",
    "m1 = euler2mat_new(np.radians([0,  45,  0]))\n",
    "m2 = euler2mat_new(np.radians([0,  45, 98]))\n",
    "check(m1, m2)"
   ]
  },
  {
   "cell_type": "code",
   "execution_count": 7,
   "metadata": {},
   "outputs": [
    {
     "name": "stdout",
     "output_type": "stream",
     "text": [
      "current\t37.28316471355922\n",
      "org1\t37.283164713559245\n",
      "current\t48.30848916372926\n",
      "org1\t48.30848916372931\n",
      "current\t39.85150205126839\n",
      "org1\t39.85150205126844\n",
      "current\t50.138298864832976\n",
      "org1\t50.13829886483299\n",
      "current\t13.730973075076875\n",
      "org1\t13.730973075076887\n",
      "current\t32.44288075881981\n",
      "org1\t32.44288075881982\n",
      "current\t54.42141450854485\n",
      "org1\t54.421414508544885\n",
      "current\t45.879521056341154\n",
      "org1\t45.879521056341154\n",
      "current\t33.74294831332352\n",
      "org1\t33.74294831332352\n",
      "current\t46.98172944935342\n",
      "org1\t46.98172944935346\n"
     ]
    }
   ],
   "source": [
    "for _ in range(10):\n",
    "    m1 = euler2mat_new((np.random.random(3)-0.5)*5*np.pi)\n",
    "    m2 = euler2mat_new((np.random.random(3)-0.5)*5*np.pi)\n",
    "    \n",
    "    check(m1, m2)"
   ]
  },
  {
   "cell_type": "markdown",
   "metadata": {},
   "source": [
    "# Test_2 speed"
   ]
  },
  {
   "cell_type": "code",
   "execution_count": 17,
   "metadata": {},
   "outputs": [],
   "source": [
    "m1 = euler2mat_new((np.random.random(3)-0.5)*2*np.pi)\n",
    "m2 = euler2mat_new((np.random.random(3)-0.5)*2*np.pi)"
   ]
  },
  {
   "cell_type": "code",
   "execution_count": 30,
   "metadata": {},
   "outputs": [
    {
     "name": "stdout",
     "output_type": "stream",
     "text": [
      "CPU times: user 3.45 ms, sys: 808 µs, total: 4.26 ms\n",
      "Wall time: 3.56 ms\n"
     ]
    },
    {
     "data": {
      "text/plain": [
       "(array([[ 0.9057088 , -0.31486668,  0.28381427],\n",
       "        [ 0.18512355,  0.89610799,  0.40338535],\n",
       "        [-0.38134084, -0.31280895,  0.86990213]]), 0.5810997368069682)"
      ]
     },
     "execution_count": 30,
     "metadata": {},
     "output_type": "execute_result"
    }
   ],
   "source": [
    "%time miso_new(m1, m2)"
   ]
  },
  {
   "cell_type": "code",
   "execution_count": 31,
   "metadata": {},
   "outputs": [
    {
     "name": "stdout",
     "output_type": "stream",
     "text": [
      "CPU times: user 1.1 ms, sys: 1.22 ms, total: 2.32 ms\n",
      "Wall time: 1.22 ms\n"
     ]
    },
    {
     "data": {
      "text/plain": [
       "(array([[ 0.83695182, -0.47294059,  0.27538854],\n",
       "        [ 0.45895106,  0.8806494 ,  0.11756087],\n",
       "        [-0.29812006,  0.02799708,  0.9541177 ]]), 0.5810997368069685)"
      ]
     },
     "execution_count": 31,
     "metadata": {},
     "output_type": "execute_result"
    }
   ],
   "source": [
    "%time miso_org(m1, m2)"
   ]
  },
  {
   "cell_type": "markdown",
   "metadata": {},
   "source": [
    "Due to the instance initialization, there is still some overhead here..."
   ]
  },
  {
   "cell_type": "code",
   "execution_count": null,
   "metadata": {},
   "outputs": [],
   "source": []
  }
 ],
 "metadata": {
  "kernelspec": {
   "display_name": "Python 3",
   "language": "python",
   "name": "python3"
  },
  "language_info": {
   "codemirror_mode": {
    "name": "ipython",
    "version": 3
   },
   "file_extension": ".py",
   "mimetype": "text/x-python",
   "name": "python",
   "nbconvert_exporter": "python",
   "pygments_lexer": "ipython3",
   "version": "3.7.3"
  }
 },
 "nbformat": 4,
 "nbformat_minor": 2
}
