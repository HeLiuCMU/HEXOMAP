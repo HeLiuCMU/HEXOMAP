{
 "cells": [
  {
   "cell_type": "markdown",
   "metadata": {},
   "source": [
    "# Overview\n",
    "\n",
    "This notebook is used for the development of the new orientation class that will function in place of FZfile.py and RotRep."
   ]
  },
  {
   "cell_type": "code",
   "execution_count": 1,
   "metadata": {},
   "outputs": [],
   "source": [
    "# import the functions that need to be migrated to the new classes\n",
    "\n",
    "import os\n",
    "import sys\n",
    "import numpy as np\n",
    "\n",
    "from tqdm import tqdm_notebook\n",
    "from scipy.linalg import polar\n",
    "\n",
    "sys.path.append(\"../../\")"
   ]
  },
  {
   "cell_type": "code",
   "execution_count": 2,
   "metadata": {},
   "outputs": [],
   "source": [
    "from RotRep import Mat2EulerZXZ, Mat2EulerZXZVectorized \n",
    "from RotRep import EulerZXZ2Mat, EulerZXZ2MatVectorized\n",
    "from RotRep import rod_from_quaternion\n",
    "from RotRep import Misorien2FZ1\n",
    "from RotRep import GetSymRotMat\n",
    "from RotRep import Orien2FZ\n",
    "# from FZfile import generate_random_rot_mat\n",
    "\n",
    "# from FZfile import misorien"
   ]
  },
  {
   "cell_type": "code",
   "execution_count": 3,
   "metadata": {},
   "outputs": [],
   "source": [
    "from hexomap.orientation import Eulers\n",
    "from hexomap.orientation import Quaternion\n",
    "from hexomap.orientation import Rodrigues\n",
    "from hexomap.orientation import Orientation\n",
    "from hexomap.orientation import Frame\n",
    "from hexomap.orientation import sym_operator\n",
    "from hexomap.utility     import iszero\n",
    "from hexomap.utility     import isone\n",
    "from hexomap.npmath      import random_three_vector\n",
    "from hexomap.lattice     import to_fundamental_zone"
   ]
  },
  {
   "cell_type": "markdown",
   "metadata": {},
   "source": [
    "The FZfile is somehow tied to pycuda, we have to come back for it later."
   ]
  },
  {
   "cell_type": "markdown",
   "metadata": {},
   "source": [
    "# Euler angles and (active) rotation matrix conversion\n",
    "\n",
    "The previous implementation is done directly between the two, now we need to add quaternion to the fold."
   ]
  },
  {
   "cell_type": "code",
   "execution_count": null,
   "metadata": {},
   "outputs": [],
   "source": [
    "EulerZXZ2Mat??"
   ]
  },
  {
   "cell_type": "code",
   "execution_count": null,
   "metadata": {},
   "outputs": [],
   "source": [
    "euler = [-1.26124505, -1.34263514, 0.39034601]\n",
    "print(EulerZXZ2Mat(euler))"
   ]
  },
  {
   "cell_type": "code",
   "execution_count": null,
   "metadata": {},
   "outputs": [],
   "source": [
    "from hexomap.orientation import Eulers"
   ]
  },
  {
   "cell_type": "code",
   "execution_count": null,
   "metadata": {},
   "outputs": [],
   "source": [
    "e = Eulers(*euler)\n",
    "print(e)\n",
    "print(e.as_matrix)"
   ]
  },
  {
   "cell_type": "code",
   "execution_count": null,
   "metadata": {},
   "outputs": [],
   "source": [
    "# quick test\n",
    "\n",
    "eulers = ((np.random.random(100*3)-0.5)*2*np.pi).reshape(100, 3)\n",
    "\n",
    "for me in eulers:\n",
    "    try:\n",
    "        np.testing.assert_allclose(EulerZXZ2Mat(me), Eulers(*me).as_matrix)\n",
    "    except:\n",
    "        print(\"error\")\n",
    "        print(me)\n",
    "        print(EulerZXZ2Mat(me))\n",
    "        print(Eulers(*me).as_matrix)\n"
   ]
  },
  {
   "cell_type": "code",
   "execution_count": null,
   "metadata": {},
   "outputs": [],
   "source": [
    "EulerZXZ2MatVectorized??"
   ]
  },
  {
   "cell_type": "code",
   "execution_count": null,
   "metadata": {},
   "outputs": [],
   "source": [
    "N = 10000\n",
    "\n",
    "eulers = ((np.random.random(N*3)-0.5)*2*np.pi).reshape(N, 3)"
   ]
  },
  {
   "cell_type": "code",
   "execution_count": null,
   "metadata": {},
   "outputs": [],
   "source": [
    "%%timeit\n",
    "\n",
    "m_old = EulerZXZ2MatVectorized(eulers)"
   ]
  },
  {
   "cell_type": "code",
   "execution_count": null,
   "metadata": {},
   "outputs": [],
   "source": [
    "%%timeit\n",
    "\n",
    "m_new = Eulers.eulers_to_matrices(eulers)"
   ]
  },
  {
   "cell_type": "code",
   "execution_count": null,
   "metadata": {},
   "outputs": [],
   "source": [
    "np.testing.assert_allclose(m_old, m_new)"
   ]
  },
  {
   "cell_type": "code",
   "execution_count": null,
   "metadata": {},
   "outputs": [],
   "source": [
    "Mat2EulerZXZ??"
   ]
  },
  {
   "cell_type": "code",
   "execution_count": null,
   "metadata": {},
   "outputs": [],
   "source": [
    "# original method\n",
    "# euler -> matrix -> euler\n",
    "\n",
    "euler = np.radians([0, 0, 32])  # special case, also need to make sure that the single rotation is the last one.\n",
    "m = EulerZXZ2Mat(euler)\n",
    "\n",
    "np.testing.assert_allclose(euler, Mat2EulerZXZ(m))"
   ]
  },
  {
   "cell_type": "code",
   "execution_count": null,
   "metadata": {},
   "outputs": [],
   "source": [
    "# new method\n",
    "\n",
    "euler = Eulers(*np.radians([0, 0, 32]))\n",
    "\n",
    "m = euler.as_matrix\n",
    "\n",
    "print(Eulers.from_matrix(m))\n",
    "print(euler)"
   ]
  },
  {
   "cell_type": "markdown",
   "metadata": {},
   "source": [
    "Both methods are self consistent, now need to make sure that both can get the same Euler angles from a random rotation matrix"
   ]
  },
  {
   "cell_type": "code",
   "execution_count": null,
   "metadata": {},
   "outputs": [],
   "source": [
    "F = np.random.random(3*3).reshape(3,3)\n",
    "\n",
    "R, V = polar(F)\n",
    "\n",
    "print(R)\n",
    "print(V)"
   ]
  },
  {
   "cell_type": "code",
   "execution_count": null,
   "metadata": {},
   "outputs": [],
   "source": [
    "euler_o = Mat2EulerZXZ(R)\n",
    "\n",
    "euler_n = Eulers.from_matrix(R).as_array\n",
    "\n",
    "print(np.array(euler_o)%(2*np.pi), euler_n)"
   ]
  },
  {
   "cell_type": "code",
   "execution_count": null,
   "metadata": {},
   "outputs": [],
   "source": [
    "Mat2EulerZXZVectorized??"
   ]
  },
  {
   "cell_type": "code",
   "execution_count": null,
   "metadata": {},
   "outputs": [],
   "source": [
    "Fs = np.random.random(5*3*3).reshape(5,3,3)\n",
    "Rs = np.array([polar(me)[0] for me in Fs])\n",
    "\n",
    "eulers_o = Mat2EulerZXZVectorized(Rs)\n",
    "\n",
    "print(eulers_o)"
   ]
  },
  {
   "cell_type": "code",
   "execution_count": null,
   "metadata": {},
   "outputs": [],
   "source": [
    "eulers_n = Eulers.matrices_to_eulers(Rs)\n",
    "\n",
    "print(eulers_n)"
   ]
  },
  {
   "cell_type": "code",
   "execution_count": null,
   "metadata": {},
   "outputs": [],
   "source": [
    "# now batch testing\n",
    "\n",
    "N = 10000\n",
    "Fs = np.random.random(N*3*3).reshape(N,3,3)\n",
    "Rs = np.array([polar(me)[0] for me in Fs])"
   ]
  },
  {
   "cell_type": "code",
   "execution_count": null,
   "metadata": {},
   "outputs": [],
   "source": [
    "%%timeit\n",
    "eulers_o = Mat2EulerZXZVectorized(Rs)"
   ]
  },
  {
   "cell_type": "code",
   "execution_count": null,
   "metadata": {},
   "outputs": [],
   "source": [
    "%%timeit\n",
    "eulers_n = Eulers.matrices_to_eulers(Rs)"
   ]
  },
  {
   "cell_type": "code",
   "execution_count": null,
   "metadata": {},
   "outputs": [],
   "source": [
    "np.testing.assert_allclose(eulers_o, eulers_n)"
   ]
  },
  {
   "cell_type": "markdown",
   "metadata": {},
   "source": [
    "# Quaternion dev"
   ]
  },
  {
   "cell_type": "markdown",
   "metadata": {},
   "source": [
    "## Quaternion <-> Euler angles"
   ]
  },
  {
   "cell_type": "code",
   "execution_count": null,
   "metadata": {},
   "outputs": [],
   "source": [
    "euler = np.radians([33, 10, 1])\n",
    "\n",
    "e = Eulers(*euler)\n",
    "q = Quaternion.from_eulers(e)\n",
    "\n",
    "print(np.degrees(q.as_eulers.as_array))"
   ]
  },
  {
   "cell_type": "code",
   "execution_count": null,
   "metadata": {},
   "outputs": [],
   "source": [
    "for _ in tqdm_notebook(range(10000)):\n",
    "    euler = Eulers(*((np.random.random(3)-0.5)*2*np.pi))\n",
    "    q = Quaternion.from_eulers(euler)\n",
    "    np.testing.assert_allclose(euler.as_array, q.as_eulers.as_array)"
   ]
  },
  {
   "cell_type": "code",
   "execution_count": null,
   "metadata": {
    "scrolled": true
   },
   "outputs": [],
   "source": [
    "P = 1\n",
    "\n",
    "def eu2qu(eu):\n",
    "    \"\"\"Euler angles to quaternion\"\"\"\n",
    "    ee = 0.5*eu\n",
    "    cPhi = np.cos(ee[1])\n",
    "    sPhi = np.sin(ee[1])\n",
    "    qu = np.array([ cPhi*np.cos(ee[0]+ee[2]),\n",
    "                   -P*sPhi*np.cos(ee[0]-ee[2]),\n",
    "                   -P*sPhi*np.sin(ee[0]-ee[2]),\n",
    "                   -P*cPhi*np.sin(ee[0]+ee[2]) ])\n",
    "    #if qu[0] < 0.0: qu.homomorph()                                                                   !ToDo: Check with original\n",
    "    return qu\n",
    "\n",
    "def qu2eu(qu):\n",
    "    \"\"\"Quaternion to Euler angles\"\"\" \n",
    "    q03 = qu[0]**2+qu[3]**2\n",
    "    q12 = qu[1]**2+qu[2]**2\n",
    "    chi = np.sqrt(q03*q12)\n",
    "    \n",
    "    if iszero(chi):\n",
    "        eu = np.array([np.arctan2(-P*2.0*qu[0]*qu[3],qu[0]**2-qu[3]**2), 0.0,   0.0]) if iszero(q12) else \\\n",
    "        np.array([np.arctan2(2.0*qu[1]*qu[2],qu[1]**2-qu[2]**2),         np.pi, 0.0])\n",
    "    else:\n",
    "        eu = np.array([np.arctan2((-P*qu[0]*qu[2]+qu[1]*qu[3])*chi, (-P*qu[0]*qu[1]-qu[2]*qu[3])*chi ),\n",
    "                       np.arctan2( 2.0*chi, q03-q12 ), \n",
    "                       np.arctan2(( P*qu[0]*qu[2]+qu[1]*qu[3])*chi, (-P*qu[0]*qu[1]+qu[2]*qu[3])*chi )])\n",
    "    \n",
    "    # reduce Euler angles to definition range, i.e a lower limit of 0.0\n",
    "    eu = np.where(eu<0, (eu+2.0*np.pi)%np.array([2.0*np.pi,np.pi,2.0*np.pi]),eu)\n",
    "    return eu\n",
    "\n",
    "for _ in tqdm_notebook(range(10000)):\n",
    "    eu = (np.random.random(3)-0.5)*np.pi*2\n",
    "    eu = np.where(eu<0, (eu+2.0*np.pi)%np.array([2.0*np.pi,np.pi,2.0*np.pi]),eu%(2*np.pi))\n",
    "    q = eu2qu(eu)\n",
    "    np.testing.assert_allclose(eu, qu2eu(q))"
   ]
  },
  {
   "cell_type": "markdown",
   "metadata": {},
   "source": [
    "## Quaternion <-> Rotation Matrix"
   ]
  },
  {
   "cell_type": "code",
   "execution_count": null,
   "metadata": {},
   "outputs": [],
   "source": [
    "for _ in tqdm_notebook(range(10000)):\n",
    "    euler = Eulers(*((np.random.random(3)-0.5)*2*np.pi))\n",
    "    m = euler.as_matrix\n",
    "    \n",
    "    q = Quaternion.from_matrix(m)\n",
    "    np.testing.assert_allclose(m, q.as_matrix)"
   ]
  },
  {
   "cell_type": "markdown",
   "metadata": {},
   "source": [
    "## Rodrigues <-> Quaternion"
   ]
  },
  {
   "cell_type": "code",
   "execution_count": null,
   "metadata": {},
   "outputs": [],
   "source": [
    "rod_from_quaternion??"
   ]
  },
  {
   "cell_type": "code",
   "execution_count": null,
   "metadata": {},
   "outputs": [],
   "source": [
    "a = np.ones((5,5))\n",
    "b = np.arange(5) + 1\n",
    "\n",
    "print(a/b[:,None])"
   ]
  },
  {
   "cell_type": "code",
   "execution_count": null,
   "metadata": {},
   "outputs": [],
   "source": [
    "qs = np.array([Quaternion.from_random().as_array for _ in range (5)]).T"
   ]
  },
  {
   "cell_type": "code",
   "execution_count": null,
   "metadata": {
    "scrolled": true
   },
   "outputs": [],
   "source": [
    "print(qs)"
   ]
  },
  {
   "cell_type": "code",
   "execution_count": null,
   "metadata": {
    "scrolled": true
   },
   "outputs": [],
   "source": [
    "rs_o = rod_from_quaternion(qs)\n",
    "\n",
    "print(rs_o)"
   ]
  },
  {
   "cell_type": "code",
   "execution_count": null,
   "metadata": {},
   "outputs": [],
   "source": [
    "rs_n = Rodrigues.rodrigues_from_quaternions(qs.T).T\n",
    "\n",
    "print(rs_n)"
   ]
  },
  {
   "cell_type": "markdown",
   "metadata": {},
   "source": [
    "# Misorientation related calculation"
   ]
  },
  {
   "cell_type": "code",
   "execution_count": 11,
   "metadata": {},
   "outputs": [],
   "source": [
    "Misorien2FZ1??"
   ]
  },
  {
   "cell_type": "code",
   "execution_count": 9,
   "metadata": {},
   "outputs": [
    {
     "name": "stdout",
     "output_type": "stream",
     "text": [
      "Quaternion(w=0.9238795325112868, x=0.0, y=0.2705980500730985, z=0.2705980500730985, normalized=True)\n",
      "Quaternion(w=0.6087614290087208, x=0.0, y=0.5609855267969309, z=0.5609855267969309, normalized=True)\n",
      "Frame(e1=array([1, 0, 0]), e2=array([0, 1, 0]), e3=array([0, 0, 1]), o=array([0, 0, 0]), name='lab')\n",
      "Orientation(q=Quaternion(w=0.9238795325112868, x=0.0, y=0.2705980500730985, z=0.2705980500730985, normalized=True), f=Frame(e1=array([1, 0, 0]), e2=array([0, 1, 0]), e3=array([0, 0, 1]), o=array([0, 0, 0]), name='lab'))\n",
      "Orientation(q=Quaternion(w=0.6087614290087208, x=0.0, y=0.5609855267969309, z=0.5609855267969309, normalized=True), f=Frame(e1=array([1, 0, 0]), e2=array([0, 1, 0]), e3=array([0, 0, 1]), o=array([0, 0, 0]), name='lab'))\n",
      "44.124382315082926\n"
     ]
    }
   ],
   "source": [
    "q1 = Quaternion.from_angle_axis(np.pi/4,         axis=np.array([0,1,1]))\n",
    "q2 = Quaternion.from_angle_axis(np.pi/4+np.pi/3, axis=np.array([0,1,1]))\n",
    "\n",
    "frame_lab = Frame()\n",
    "\n",
    "o1 = Orientation(q1, frame_lab)\n",
    "o2 = Orientation(q2, frame_lab)\n",
    "\n",
    "print(q1)\n",
    "print(q2)\n",
    "print(frame_lab)\n",
    "print(o1)\n",
    "print(o2)\n",
    "\n",
    "_ang, _ = o1.misorientation(o2, 'hcp')\n",
    "\n",
    "print(np.degrees(_ang))"
   ]
  },
  {
   "cell_type": "code",
   "execution_count": 10,
   "metadata": {},
   "outputs": [
    {
     "data": {
      "application/vnd.jupyter.widget-view+json": {
       "model_id": "b68c1e5341944323ba5b734f245ec5ea",
       "version_major": 2,
       "version_minor": 0
      },
      "text/plain": [
       "HBox(children=(IntProgress(value=0, description='None', style=ProgressStyle(description_width='initial')), HTM…"
      ]
     },
     "metadata": {},
     "output_type": "display_data"
    },
    {
     "data": {
      "application/vnd.jupyter.widget-view+json": {
       "model_id": "ec1c2caab47640b1ae9be619f3d9d310",
       "version_major": 2,
       "version_minor": 0
      },
      "text/plain": [
       "HBox(children=(IntProgress(value=0, description='bcc', style=ProgressStyle(description_width='initial')), HTML…"
      ]
     },
     "metadata": {},
     "output_type": "display_data"
    },
    {
     "data": {
      "application/vnd.jupyter.widget-view+json": {
       "model_id": "cef9dcf79d764cd192f285d7ceca60c0",
       "version_major": 2,
       "version_minor": 0
      },
      "text/plain": [
       "HBox(children=(IntProgress(value=0, description='hcp', style=ProgressStyle(description_width='initial')), HTML…"
      ]
     },
     "metadata": {},
     "output_type": "display_data"
    }
   ],
   "source": [
    "frame_lab = Frame()\n",
    "\n",
    "axis = random_three_vector()\n",
    "q_0 = Quaternion.from_angle_axis(0, axis)\n",
    "o_0 = Orientation(q_0, frame_lab)\n",
    "\n",
    "for me in [None, 'bcc', 'hcp']:\n",
    "    for _ in tqdm_notebook(range(100), desc=f\"{me}\"):\n",
    "        ang = (np.random.random())*np.pi/4\n",
    "        o_i = Orientation(Quaternion.from_angle_axis(ang, axis), frame_lab)\n",
    "        np.testing.assert_allclose(ang, o_0.misorientation(o_i, me)[0])"
   ]
  },
  {
   "cell_type": "code",
   "execution_count": null,
   "metadata": {},
   "outputs": [],
   "source": [
    "axis = np.array([1,1,1])\n",
    "ang0 = np.random.random()*np.pi\n",
    "ang1 = ang0 + np.pi/3\n",
    "o_0 = Orientation(Quaternion.from_angle_axis(ang0, axis), frame_lab)\n",
    "o_1 = Orientation(Quaternion.from_angle_axis(ang1, axis), frame_lab)\n",
    "\n",
    "print()\n",
    "\n",
    "# np.testing.assert_allclose(0, o_0.misorientation(o_1, 'cubic'))"
   ]
  },
  {
   "cell_type": "markdown",
   "metadata": {},
   "source": [
    "## symmetry operator"
   ]
  },
  {
   "cell_type": "code",
   "execution_count": 13,
   "metadata": {},
   "outputs": [],
   "source": [
    "GetSymRotMat??"
   ]
  },
  {
   "cell_type": "markdown",
   "metadata": {},
   "source": [
    "Not much to do here, just need to map quaternion based symmetry operator to rotation matrix"
   ]
  },
  {
   "cell_type": "markdown",
   "metadata": {},
   "source": [
    "## Orien2FZ"
   ]
  },
  {
   "cell_type": "code",
   "execution_count": 14,
   "metadata": {},
   "outputs": [],
   "source": [
    "Orien2FZ??"
   ]
  },
  {
   "cell_type": "code",
   "execution_count": 16,
   "metadata": {},
   "outputs": [],
   "source": [
    "to_fundamental_zone??"
   ]
  },
  {
   "cell_type": "code",
   "execution_count": 12,
   "metadata": {},
   "outputs": [
    {
     "name": "stdout",
     "output_type": "stream",
     "text": [
      "[170.  90. 190.]\n",
      "[170.  90. 190.]\n"
     ]
    }
   ],
   "source": [
    "frame_lab = Frame()\n",
    "\n",
    "o_0 = Orientation(Quaternion.from_eulers(np.radians([10, 90, 10])), frame_lab)\n",
    "\n",
    "o_1 = to_fundamental_zone(o_0, 'hcp')\n",
    "\n",
    "print(np.degrees(o_0.as_eulers.as_array))\n",
    "print(np.degrees(o_1.as_eulers.as_array))\n"
   ]
  },
  {
   "cell_type": "code",
   "execution_count": null,
   "metadata": {},
   "outputs": [],
   "source": []
  }
 ],
 "metadata": {
  "kernelspec": {
   "display_name": "Python 3",
   "language": "python",
   "name": "python3"
  },
  "language_info": {
   "codemirror_mode": {
    "name": "ipython",
    "version": 3
   },
   "file_extension": ".py",
   "mimetype": "text/x-python",
   "name": "python",
   "nbconvert_exporter": "python",
   "pygments_lexer": "ipython3",
   "version": "3.7.0"
  }
 },
 "nbformat": 4,
 "nbformat_minor": 2
}
